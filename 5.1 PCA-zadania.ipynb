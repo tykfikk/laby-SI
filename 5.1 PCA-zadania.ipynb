{
 "cells": [
  {
   "cell_type": "markdown",
   "id": "866e3894",
   "metadata": {},
   "source": [
    "redukcja wymiarowości (PCA)\n",
    "redukcja liczby cech - np. jak mamy od cholery kolumn to możemy sobie to zmniejszyć - w celu zmniejszenia złożoności obliczeniowej, no a czasami tak po prostu \"wypada\", bo są dane, które zaszumiają albo są po prostu niepotrzebne\n",
    "nie służy do zwiększenia skuteczności uczenia - tylko stricte do zmniejszenia złożoności, żeby skuteczność była taka sam, ale liczyło się szybciej \n",
    "\n",
    "jak on działa?\n",
    "dążymy do zwiększenia zmienności - wyznaczamy nowe osie dla zbioru danych przedstawionych np. na dwuwymiarowym układzie współrzędnych"
   ]
  },
  {
   "cell_type": "code",
   "execution_count": 1,
   "id": "ed5a564c",
   "metadata": {},
   "outputs": [],
   "source": [
    "import numpy as np\n",
    "import matplotlib.pyplot as plt\n",
    "from sklearn.datasets import load_digits\n",
    "from sklearn.decomposition import PCA"
   ]
  },
  {
   "cell_type": "code",
   "execution_count": 2,
   "id": "ffbf1b4c",
   "metadata": {},
   "outputs": [],
   "source": [
    "#załadowanie zbioru digits\n",
    "digits = load_digits()\n",
    "X = digits.data\n",
    "y = digits.target"
   ]
  },
  {
   "cell_type": "code",
   "execution_count": 3,
   "id": "473e4160",
   "metadata": {},
   "outputs": [
    {
     "data": {
      "text/plain": [
       "(-0.5, 7.5, 7.5, -0.5)"
      ]
     },
     "execution_count": 3,
     "metadata": {},
     "output_type": "execute_result"
    },
    {
     "data": {
      "image/png": "[encoded data removed]",
      "text/plain": [
       "<Figure size 432x288 with 1 Axes>"
      ]
     },
     "metadata": {
      "needs_background": "light"
     },
     "output_type": "display_data"
    }
   ],
   "source": [
    "#wyświetlenie pojedyńczego elementu ze zbioru, w tym przypadku o indeksie 0\n",
    "sample_image = digits.images[0]\n",
    "\n",
    "plt.imshow(sample_image, cmap='gray')\n",
    "plt.title(f'Klasa: {digits.target[0]}', fontsize = 8)\n",
    "plt.axis(\"off\")"
   ]
  },
  {
   "cell_type": "code",
   "execution_count": 10,
   "id": "59b90ec6",
   "metadata": {},
   "outputs": [
    {
     "data": {
      "image/png": "[encoded data removed]",
      "text/plain": [
       "<Figure size 432x288 with 25 Axes>"
      ]
     },
     "metadata": {
      "needs_background": "light"
     },
     "output_type": "display_data"
    }
   ],
   "source": [
    "#wykorzystując pętlę for i polecenie subplot wyświetl 25 elementów zbioru w 5 kolumnach i 5 wierszach\n",
    "for i in range(25):\n",
    "    plt.subplot(5, 5, i+1) #numeracja musi być od 1\n",
    "    plt.subplots_adjust(wspace=0.5, hspace=0.5)\n",
    "    plt.imshow(digits.images[i], cmap='gray')\n",
    "    plt.title(f'Klasa: {digits.target[i]}', fontsize = 8)\n",
    "    plt.axis(\"off\")\n",
    "    #todo\n",
    "    "
   ]
  },
  {
   "cell_type": "markdown",
   "id": "7e78f9c3",
   "metadata": {},
   "source": [
    "mamy zbiór obrazków, który można przedstawić w tabeli, w której będzie tyle wierszy ile jest cyferek i tyle kolumn ile jest pikseli (czyli 64) "
   ]
  },
  {
   "cell_type": "code",
   "execution_count": 11,
   "id": "b3430a9e",
   "metadata": {},
   "outputs": [],
   "source": [
    "#uruchomienie PCA\n",
    "pca = PCA()\n",
    "X_r = pca.fit(X).transform(X)"
   ]
  },
  {
   "cell_type": "code",
   "execution_count": 12,
   "id": "251edf3b",
   "metadata": {},
   "outputs": [
    {
     "name": "stdout",
     "output_type": "stream",
     "text": [
      "Wyjaśniona wariancja:\n",
      " [1.48905936e-01 1.36187712e-01 1.17945938e-01 8.40997942e-02\n",
      " 5.78241466e-02 4.91691032e-02 4.31598701e-02 3.66137258e-02\n",
      " 3.35324810e-02 3.07880621e-02 2.37234084e-02 2.27269657e-02\n",
      " 1.82186331e-02 1.77385494e-02 1.46710109e-02 1.40971560e-02\n",
      " 1.31858920e-02 1.24813782e-02 1.01771796e-02 9.05617439e-03\n",
      " 8.89538461e-03 7.97123157e-03 7.67493255e-03 7.22903569e-03\n",
      " 6.95888851e-03 5.96081458e-03 5.75614688e-03 5.15157582e-03\n",
      " 4.89539777e-03 4.28887968e-03 3.73606048e-03 3.53274223e-03\n",
      " 3.36683986e-03 3.28029851e-03 3.08320884e-03 2.93778629e-03\n",
      " 2.56588609e-03 2.27742397e-03 2.22277922e-03 2.11430393e-03\n",
      " 1.89909062e-03 1.58652907e-03 1.51159934e-03 1.40578764e-03\n",
      " 1.16622290e-03 1.07492521e-03 9.64053065e-04 7.74630271e-04\n",
      " 5.57211553e-04 4.04330693e-04 2.09916327e-04 8.24797098e-05\n",
      " 5.25149980e-05 5.05243719e-05 3.29961363e-05 1.24365445e-05\n",
      " 7.04827911e-06 3.01432139e-06 1.06230800e-06 5.50074587e-07\n",
      " 3.42905702e-07 9.50687638e-34 9.50687638e-34 9.36179501e-34]\n"
     ]
    }
   ],
   "source": [
    "explained_variance = pca.explained_variance_ratio_\n",
    "print(\"Wyjaśniona wariancja:\\n\", explained_variance)"
   ]
  },
  {
   "cell_type": "code",
   "execution_count": null,
   "id": "13019209",
   "metadata": {},
   "outputs": [],
   "source": []
  },
  {
   "cell_type": "markdown",
   "id": "277c956e",
   "metadata": {},
   "source": [
    "ta tabela ma tyle elementów ile jest pikseli w obrazku "
   ]
  },
  {
   "cell_type": "code",
   "execution_count": 15,
   "id": "a7e56c17",
   "metadata": {},
   "outputs": [
    {
     "data": {
      "text/plain": [
       "1.0000000000000002"
      ]
     },
     "execution_count": 15,
     "metadata": {},
     "output_type": "execute_result"
    }
   ],
   "source": [
    "#zsumuj listę explained_variance\n",
    "\n",
    "explained_variance_sum = sum(explained_variance)\n",
    "\n",
    "explained_variance_sum"
   ]
  },
  {
   "cell_type": "markdown",
   "id": "e6f46b4e",
   "metadata": {},
   "source": [
    "sumuje się do 1, bo każda cecha wyjaśnia jakiś procent całości (czyli 100%)"
   ]
  },
  {
   "cell_type": "code",
   "execution_count": 13,
   "id": "46c7c393",
   "metadata": {},
   "outputs": [
    {
     "data": {
      "image/png": "[encoded data removed]",
      "text/plain": [
       "<Figure size 432x288 with 1 Axes>"
      ]
     },
     "metadata": {
      "needs_background": "light"
     },
     "output_type": "display_data"
    }
   ],
   "source": [
    "x_axis_values = list(range(1,len(explained_variance)+1))\n",
    "plt.bar(x_axis_values, explained_variance)\n",
    "plt.xlabel(\"Liczba komponentów głównych\")\n",
    "plt.ylabel(\"Zachowana wariancja\")\n",
    "plt.show()"
   ]
  },
  {
   "cell_type": "markdown",
   "id": "d0ebd800",
   "metadata": {},
   "source": [
    "on stworzył zupełnie nowe 64 cechy\n",
    "i ta pierwsza cecha wyjaśnia ok 15% calości, druga ok 13,5% etc. \n",
    "ale czym dokładnie są te cechy? nie wiadomo - są wypadkową wyjściowych cech, ale nie jesteśmy ich w stanie nazwać (np. nie odpowiadają wiekowi, płci ani nic) "
   ]
  }
 ],
 "metadata": {
  "kernelspec": {
   "display_name": "Python 3 (ipykernel)",
   "language": "python",
   "name": "python3"
  },
  "language_info": {
   "codemirror_mode": {
    "name": "ipython",
    "version": 3
   },
   "file_extension": ".py",
   "mimetype": "text/x-python",
   "name": "python",
   "nbconvert_exporter": "python",
   "pygments_lexer": "ipython3",
   "version": "3.9.18"
  }
 },
 "nbformat": 4,
 "nbformat_minor": 5
}
