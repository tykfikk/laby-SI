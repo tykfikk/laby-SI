{
 "cells": [
  {
   "cell_type": "code",
   "execution_count": 23,
   "id": "ed5a564c",
   "metadata": {},
   "outputs": [],
   "source": [
    "import numpy as np\n",
    "import matplotlib.pyplot as plt\n",
    "from sklearn.datasets import load_digits\n",
    "from sklearn.decomposition import PCA\n",
    "from sklearn.model_selection import train_test_split\n",
    "from sklearn.neighbors import KNeighborsClassifier\n",
    "from sklearn.metrics import accuracy_score"
   ]
  },
  {
   "cell_type": "code",
   "execution_count": 24,
   "id": "ffbf1b4c",
   "metadata": {},
   "outputs": [],
   "source": [
    "#wczytaj zbiór digits i podziel go na X i y\n",
    "\n",
    "digits = load_digits()\n",
    "X = digits.data\n",
    "y = digits.target"
   ]
  },
  {
   "cell_type": "code",
   "execution_count": 25,
   "id": "8eb5a5ed",
   "metadata": {},
   "outputs": [],
   "source": [
    "#podziel dane na treningowe i testowe\n",
    "\n",
    "X_train, X_test, y_train, y_test = train_test_split(X, y, test_size= 0.2)"
   ]
  },
  {
   "cell_type": "code",
   "execution_count": 26,
   "id": "27523ee3",
   "metadata": {},
   "outputs": [],
   "source": [
    "#PCA wyznaczone dla 5 komponentów\n",
    "pca = PCA(n_components=5) \n",
    "X_train_pca = pca.fit_transform(X_train)\n",
    "X_test_pca = pca.transform(X_test)\n"
   ]
  },
  {
   "cell_type": "code",
   "execution_count": 27,
   "id": "4135bc72",
   "metadata": {},
   "outputs": [
    {
     "name": "stdout",
     "output_type": "stream",
     "text": [
      "0.9111111111111111\n"
     ]
    }
   ],
   "source": [
    "#stwórz klasyfikator kNN dla 3 sąsiadów, naucz go na zbiorze X_train_pca i zrób predykcję na X_test_pca\n",
    "\n",
    "model = KNeighborsClassifier(n_neighbors = 3)\n",
    "model.fit(X_train_pca, y_train)\n",
    "y_pred_pca = model.predict(X_test_pca)\n",
    "acc = accuracy_score(y_test, y_pred_pca)\n",
    "print (acc)"
   ]
  },
  {
   "cell_type": "code",
   "execution_count": 28,
   "id": "9b9571fa",
   "metadata": {},
   "outputs": [
    {
     "name": "stdout",
     "output_type": "stream",
     "text": [
      "0.9861111111111112\n"
     ]
    }
   ],
   "source": [
    "#stwórz klasyfikator kNN dla 3 sąsiadów, naucz go na zbiorze X_train i zrób predykcję na X_test\n",
    "\n",
    "model = KNeighborsClassifier(n_neighbors = 3)\n",
    "model.fit(X_train, y_train)\n",
    "y_pred = model.predict(X_test)\n",
    "acc = accuracy_score(y_test, y_pred)\n",
    "print (acc)"
   ]
  },
  {
   "cell_type": "code",
   "execution_count": 29,
   "id": "f7c2eda7",
   "metadata": {},
   "outputs": [
    {
     "name": "stdout",
     "output_type": "stream",
     "text": [
      "Dokładność klasyfikacji na danych zredukowanych za pomocą PCA: 0.91\n",
      "Dokładność klasyfikacji na pełnych danych: 0.99\n"
     ]
    }
   ],
   "source": [
    "#policz accuracy dla obu klasyfikatorów\n",
    "accuracy_pca = accuracy_score(y_test, y_pred_pca)#todo\n",
    "accuracy_full = accuracy_score(y_test, y_pred)#todo\n",
    "\n",
    "print(f\"Dokładność klasyfikacji na danych zredukowanych za pomocą PCA: {accuracy_pca:.2f}\")\n",
    "print(f\"Dokładność klasyfikacji na pełnych danych: {accuracy_full:.2f}\")\n"
   ]
  },
  {
   "cell_type": "code",
   "execution_count": null,
   "id": "0118d4f2",
   "metadata": {},
   "outputs": [],
   "source": []
  },
  {
   "cell_type": "code",
   "execution_count": 36,
   "id": "c997d422",
   "metadata": {},
   "outputs": [
    {
     "name": "stdout",
     "output_type": "stream",
     "text": [
      "Dokładność klasyfikacji na danych zredukowanych za pomocą PCA: 0.28, komponentów: 1\n",
      "Dokładność klasyfikacji na danych zredukowanych za pomocą PCA: 0.55, komponentów: 2\n",
      "Dokładność klasyfikacji na danych zredukowanych za pomocą PCA: 0.72, komponentów: 3\n",
      "Dokładność klasyfikacji na danych zredukowanych za pomocą PCA: 0.82, komponentów: 4\n",
      "Dokładność klasyfikacji na danych zredukowanych za pomocą PCA: 0.91, komponentów: 5\n",
      "Dokładność klasyfikacji na danych zredukowanych za pomocą PCA: 0.93, komponentów: 6\n",
      "Dokładność klasyfikacji na danych zredukowanych za pomocą PCA: 0.96, komponentów: 7\n",
      "Dokładność klasyfikacji na danych zredukowanych za pomocą PCA: 0.96, komponentów: 8\n",
      "Dokładność klasyfikacji na danych zredukowanych za pomocą PCA: 0.97, komponentów: 9\n",
      "Dokładność klasyfikacji na danych zredukowanych za pomocą PCA: 0.97, komponentów: 10\n",
      "Dokładność klasyfikacji na danych zredukowanych za pomocą PCA: 0.97, komponentów: 11\n",
      "Dokładność klasyfikacji na danych zredukowanych za pomocą PCA: 0.97, komponentów: 12\n",
      "Dokładność klasyfikacji na danych zredukowanych za pomocą PCA: 0.97, komponentów: 13\n",
      "Dokładność klasyfikacji na danych zredukowanych za pomocą PCA: 0.97, komponentów: 14\n",
      "Dokładność klasyfikacji na danych zredukowanych za pomocą PCA: 0.98, komponentów: 15\n",
      "Dokładność klasyfikacji na danych zredukowanych za pomocą PCA: 0.98, komponentów: 16\n",
      "Dokładność klasyfikacji na danych zredukowanych za pomocą PCA: 0.98, komponentów: 17\n",
      "Dokładność klasyfikacji na danych zredukowanych za pomocą PCA: 0.98, komponentów: 18\n",
      "Dokładność klasyfikacji na danych zredukowanych za pomocą PCA: 0.98, komponentów: 19\n",
      "Dokładność klasyfikacji na danych zredukowanych za pomocą PCA: 0.99, komponentów: 20\n",
      "Dokładność klasyfikacji na danych zredukowanych za pomocą PCA: 0.99, komponentów: 21\n",
      "Dokładność klasyfikacji na danych zredukowanych za pomocą PCA: 0.99, komponentów: 22\n",
      "Dokładność klasyfikacji na danych zredukowanych za pomocą PCA: 0.99, komponentów: 23\n",
      "Dokładność klasyfikacji na danych zredukowanych za pomocą PCA: 0.99, komponentów: 24\n",
      "Dokładność klasyfikacji na danych zredukowanych za pomocą PCA: 0.99, komponentów: 25\n",
      "Dokładność klasyfikacji na danych zredukowanych za pomocą PCA: 0.99, komponentów: 26\n",
      "Dokładność klasyfikacji na danych zredukowanych za pomocą PCA: 0.99, komponentów: 27\n",
      "Dokładność klasyfikacji na danych zredukowanych za pomocą PCA: 0.99, komponentów: 28\n",
      "Dokładność klasyfikacji na danych zredukowanych za pomocą PCA: 0.99, komponentów: 29\n",
      "Dokładność klasyfikacji na danych zredukowanych za pomocą PCA: 0.99, komponentów: 30\n",
      "Dokładność klasyfikacji na danych zredukowanych za pomocą PCA: 0.99, komponentów: 31\n",
      "Dokładność klasyfikacji na danych zredukowanych za pomocą PCA: 0.99, komponentów: 32\n",
      "Dokładność klasyfikacji na danych zredukowanych za pomocą PCA: 0.99, komponentów: 33\n",
      "Dokładność klasyfikacji na danych zredukowanych za pomocą PCA: 0.99, komponentów: 34\n",
      "Dokładność klasyfikacji na danych zredukowanych za pomocą PCA: 0.99, komponentów: 35\n",
      "Dokładność klasyfikacji na danych zredukowanych za pomocą PCA: 0.99, komponentów: 36\n",
      "Dokładność klasyfikacji na danych zredukowanych za pomocą PCA: 0.99, komponentów: 37\n",
      "Dokładność klasyfikacji na danych zredukowanych za pomocą PCA: 0.99, komponentów: 38\n",
      "Dokładność klasyfikacji na danych zredukowanych za pomocą PCA: 0.99, komponentów: 39\n",
      "Dokładność klasyfikacji na danych zredukowanych za pomocą PCA: 0.99, komponentów: 40\n",
      "Dokładność klasyfikacji na danych zredukowanych za pomocą PCA: 0.99, komponentów: 41\n",
      "Dokładność klasyfikacji na danych zredukowanych za pomocą PCA: 0.99, komponentów: 42\n",
      "Dokładność klasyfikacji na danych zredukowanych za pomocą PCA: 0.99, komponentów: 43\n",
      "Dokładność klasyfikacji na danych zredukowanych za pomocą PCA: 0.98, komponentów: 44\n",
      "Dokładność klasyfikacji na danych zredukowanych za pomocą PCA: 0.99, komponentów: 45\n",
      "Dokładność klasyfikacji na danych zredukowanych za pomocą PCA: 0.99, komponentów: 46\n",
      "Dokładność klasyfikacji na danych zredukowanych za pomocą PCA: 0.99, komponentów: 47\n",
      "Dokładność klasyfikacji na danych zredukowanych za pomocą PCA: 0.99, komponentów: 48\n",
      "Dokładność klasyfikacji na danych zredukowanych za pomocą PCA: 0.99, komponentów: 49\n",
      "Dokładność klasyfikacji na danych zredukowanych za pomocą PCA: 0.99, komponentów: 50\n",
      "Dokładność klasyfikacji na danych zredukowanych za pomocą PCA: 0.99, komponentów: 51\n",
      "Dokładność klasyfikacji na danych zredukowanych za pomocą PCA: 0.99, komponentów: 52\n",
      "Dokładność klasyfikacji na danych zredukowanych za pomocą PCA: 0.99, komponentów: 53\n",
      "Dokładność klasyfikacji na danych zredukowanych za pomocą PCA: 0.99, komponentów: 54\n",
      "Dokładność klasyfikacji na danych zredukowanych za pomocą PCA: 0.99, komponentów: 55\n",
      "Dokładność klasyfikacji na danych zredukowanych za pomocą PCA: 0.99, komponentów: 56\n",
      "Dokładność klasyfikacji na danych zredukowanych za pomocą PCA: 0.99, komponentów: 57\n",
      "Dokładność klasyfikacji na danych zredukowanych za pomocą PCA: 0.99, komponentów: 58\n",
      "Dokładność klasyfikacji na danych zredukowanych za pomocą PCA: 0.99, komponentów: 59\n",
      "Dokładność klasyfikacji na danych zredukowanych za pomocą PCA: 0.99, komponentów: 60\n",
      "Dokładność klasyfikacji na danych zredukowanych za pomocą PCA: 0.99, komponentów: 61\n",
      "Dokładność klasyfikacji na danych zredukowanych za pomocą PCA: 0.99, komponentów: 62\n",
      "Dokładność klasyfikacji na danych zredukowanych za pomocą PCA: 0.99, komponentów: 63\n",
      "Dokładność klasyfikacji na danych zredukowanych za pomocą PCA: 0.99, komponentów: 64\n"
     ]
    }
   ],
   "source": [
    "#wykorzystując pętlę for sprawdź skuteczność klasyfikacji za pomocą kNN i PCA dla liczby komponentów od 1 do 64\n",
    "for i in range(1,65):\n",
    "    pca = PCA(n_components=i) \n",
    "    X_train_pca = pca.fit_transform(X_train)\n",
    "    X_test_pca = pca.transform(X_test)\n",
    "    model = KNeighborsClassifier(n_neighbors = 3)\n",
    "    model.fit(X_train_pca, y_train)\n",
    "    y_pred = model.predict(X_test_pca)\n",
    "    accuracy_pca = accuracy_score(y_test, y_pred)\n",
    "    #todo\n",
    "    print(f\"Dokładność klasyfikacji na danych zredukowanych za pomocą PCA: {accuracy_pca:.2f}, komponentów: {i}\")"
   ]
  },
  {
   "cell_type": "code",
   "execution_count": null,
   "id": "93f78380",
   "metadata": {},
   "outputs": [],
   "source": []
  }
 ],
 "metadata": {
  "kernelspec": {
   "display_name": "Python 3 (ipykernel)",
   "language": "python",
   "name": "python3"
  },
  "language_info": {
   "codemirror_mode": {
    "name": "ipython",
    "version": 3
   },
   "file_extension": ".py",
   "mimetype": "text/x-python",
   "name": "python",
   "nbconvert_exporter": "python",
   "pygments_lexer": "ipython3",
   "version": "3.9.18"
  }
 },
 "nbformat": 4,
 "nbformat_minor": 5
}
