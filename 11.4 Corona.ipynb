{
 "cells": [
  {
   "cell_type": "code",
   "execution_count": null,
   "id": "cfb4be8a",
   "metadata": {},
   "outputs": [],
   "source": [
    "#Powtórz to co robiliśmy w poprzednim pliku dla zbioru \"Corona\""
   ]
  }
 ],
 "metadata": {
  "kernelspec": {
   "display_name": "Python 3 (ipykernel)",
   "language": "python",
   "name": "python3"
  },
  "language_info": {
   "codemirror_mode": {
    "name": "ipython",
    "version": 3
   },
   "file_extension": ".py",
   "mimetype": "text/x-python",
   "name": "python",
   "nbconvert_exporter": "python",
   "pygments_lexer": "ipython3",
   "version": "3.9.7"
  }
 },
 "nbformat": 4,
 "nbformat_minor": 5
}
